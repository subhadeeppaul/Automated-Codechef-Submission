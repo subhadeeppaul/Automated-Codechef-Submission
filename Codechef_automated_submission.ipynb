{
 "cells": [
  {
   "cell_type": "code",
   "execution_count": 184,
   "id": "852ade9a-4319-4709-b9bb-99eae2b72918",
   "metadata": {},
   "outputs": [
    {
     "name": "stderr",
     "output_type": "stream",
     "text": [
      "\n",
      "\n",
      "====== WebDriver manager ======\n",
      "Current google-chrome version is 93.0.4577\n",
      "Get LATEST driver version for 93.0.4577\n",
      "Driver [C:\\Users\\Vishal\\.wdm\\drivers\\chromedriver\\win32\\93.0.4577.63\\chromedriver.exe] found in cache\n"
     ]
    }
   ],
   "source": [
    "from selenium import webdriver\n",
    "from webdriver_manager.chrome import ChromeDriverManager\n",
    "\n",
    "browser = webdriver.Chrome(ChromeDriverManager().install())\n",
    "\n",
    "import time"
   ]
  },
  {
   "cell_type": "code",
   "execution_count": 186,
   "id": "15d78166-a70f-4699-8945-e3bc7e10e80f",
   "metadata": {},
   "outputs": [],
   "source": [
    " #open link in a browser\n",
    "browser.get(\"https://codechef.com\")"
   ]
  },
  {
   "cell_type": "code",
   "execution_count": 187,
   "id": "52304f59-a835-4218-ac23-e9c93235c981",
   "metadata": {},
   "outputs": [],
   "source": [
    "#login\n",
    "username_element=browser.find_element_by_id(\"edit-name\")"
   ]
  },
  {
   "cell_type": "code",
   "execution_count": 188,
   "id": "0d1be66a-c9a5-45e4-aaa7-876b5c604087",
   "metadata": {},
   "outputs": [],
   "source": [
    "username_element.send_keys(\"spidy_12\")"
   ]
  },
  {
   "cell_type": "code",
   "execution_count": 189,
   "id": "9322e221-f131-4ea2-81d3-3a12484c2ab9",
   "metadata": {},
   "outputs": [],
   "source": [
    "password_element=browser.find_element_by_id(\"edit-pass\")"
   ]
  },
  {
   "cell_type": "code",
   "execution_count": 190,
   "id": "702d67b3-2183-49ea-ab6b-9105a3f714a4",
   "metadata": {},
   "outputs": [],
   "source": [
    "from getpass import getpass"
   ]
  },
  {
   "cell_type": "code",
   "execution_count": 191,
   "id": "873399bf-94a3-4798-8363-b32db370b5e0",
   "metadata": {},
   "outputs": [
    {
     "name": "stdin",
     "output_type": "stream",
     "text": [
      "Enter password:  ·········\n"
     ]
    }
   ],
   "source": [
    "password_element.send_keys(getpass(\"Enter password: \"))"
   ]
  },
  {
   "cell_type": "code",
   "execution_count": 192,
   "id": "7705d859-4176-4c8d-b824-6ab86d4c7e18",
   "metadata": {},
   "outputs": [],
   "source": [
    "browser.find_element_by_id(\"edit-submit\").click()"
   ]
  },
  {
   "cell_type": "code",
   "execution_count": 193,
   "id": "fa9f63b0-9874-4a30-b13a-f0e30d60529e",
   "metadata": {},
   "outputs": [],
   "source": [
    "#open submission page\n",
    "\n",
    "browser.get(\"https://www.codechef.com/submit/TEST\")"
   ]
  },
  {
   "cell_type": "code",
   "execution_count": 194,
   "id": "a42dfebd-4f9d-42c2-acba-96075a42174c",
   "metadata": {},
   "outputs": [],
   "source": [
    "#sleep function to let web components load in case of slow internet connection\n",
    "time.sleep(10)"
   ]
  },
  {
   "cell_type": "code",
   "execution_count": 195,
   "id": "32e91064-63c3-4101-bbd1-54e8564f91a1",
   "metadata": {},
   "outputs": [],
   "source": [
    "#click on toggle button to open simple text mode\n",
    "browser.find_element_by_id(\"edit_area_toggle_checkbox_edit-program\").click()"
   ]
  },
  {
   "cell_type": "code",
   "execution_count": 196,
   "id": "cf0c603a-46fa-4b41-a416-49517a779f08",
   "metadata": {},
   "outputs": [],
   "source": [
    "with open(\"solution.txt\", 'r') as f:\n",
    "    code=f.read()"
   ]
  },
  {
   "cell_type": "code",
   "execution_count": 197,
   "id": "63bfe0a4-a6ed-4acf-b1c3-351e4629c14c",
   "metadata": {},
   "outputs": [
    {
     "data": {
      "text/plain": [
       "'#include <iostream>\\nusing namespace std;\\n\\nint main() {\\n // your code goes here\\n int a;\\n while(1) {\\n  cin>>a;\\n  if(a==42) break;\\n  else cout<<a<<endl;}\\n return 0;\\n}'"
      ]
     },
     "execution_count": 197,
     "metadata": {},
     "output_type": "execute_result"
    }
   ],
   "source": [
    "code"
   ]
  },
  {
   "cell_type": "code",
   "execution_count": 198,
   "id": "d41a2aa5-1149-41be-ae51-26fbe6a01559",
   "metadata": {},
   "outputs": [],
   "source": [
    "code_element=browser.find_element_by_id('edit-program')"
   ]
  },
  {
   "cell_type": "code",
   "execution_count": 199,
   "id": "977bf273-aa07-408a-acc3-4c524140d18c",
   "metadata": {},
   "outputs": [],
   "source": [
    "code_element.send_keys(code)"
   ]
  },
  {
   "cell_type": "code",
   "execution_count": 200,
   "id": "9a7b924e-002f-4aa4-a246-bcb915eca84e",
   "metadata": {},
   "outputs": [],
   "source": [
    "#browser.find_element_by_xpath('//*[@id=\"edit-language\"]/option[1]').click()"
   ]
  },
  {
   "cell_type": "code",
   "execution_count": 203,
   "id": "38dd6f6f-7cb7-4bd6-a28f-787568c074f0",
   "metadata": {},
   "outputs": [],
   "source": [
    "browser.find_element_by_id(\"edit-submit\").click()\n",
    "\n",
    "\n"
   ]
  },
  {
   "cell_type": "code",
   "execution_count": null,
   "id": "f5befa4b-7b02-43b3-9dda-c33f2d556b45",
   "metadata": {},
   "outputs": [],
   "source": []
  }
 ],
 "metadata": {
  "kernelspec": {
   "display_name": "Python 3",
   "language": "python",
   "name": "python3"
  },
  "language_info": {
   "codemirror_mode": {
    "name": "ipython",
    "version": 3
   },
   "file_extension": ".py",
   "mimetype": "text/x-python",
   "name": "python",
   "nbconvert_exporter": "python",
   "pygments_lexer": "ipython3",
   "version": "3.8.8"
  }
 },
 "nbformat": 4,
 "nbformat_minor": 5
}
